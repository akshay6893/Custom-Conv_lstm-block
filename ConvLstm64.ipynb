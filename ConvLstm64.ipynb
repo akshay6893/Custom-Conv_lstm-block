{
 "cells": [
  {
   "cell_type": "code",
   "execution_count": null,
   "metadata": {
    "colab": {
     "base_uri": "https://localhost:8080/",
     "height": 122
    },
    "colab_type": "code",
    "executionInfo": {
     "elapsed": 22469,
     "status": "ok",
     "timestamp": 1592537560979,
     "user": {
      "displayName": "Akshay Tiwari",
      "photoUrl": "https://lh3.googleusercontent.com/a-/AOh14Gh_TWpk4u1Wa_FKphLjiNy_0rzD7hieOf1oU5VWeQ=s64",
      "userId": "03055594998709423173"
     },
     "user_tz": -330
    },
    "id": "75UOXU8lnWAs",
    "outputId": "e16ce003-6173-419f-ba9d-145950a1b261"
   },
   "outputs": [],
   "source": [
    "       "
   ]
  },
  {
   "cell_type": "code",
   "execution_count": 2,
   "metadata": {
    "colab": {},
    "colab_type": "code",
    "executionInfo": {
     "elapsed": 5877,
     "status": "ok",
     "timestamp": 1592537570061,
     "user": {
      "displayName": "Akshay Tiwari",
      "photoUrl": "https://lh3.googleusercontent.com/a-/AOh14Gh_TWpk4u1Wa_FKphLjiNy_0rzD7hieOf1oU5VWeQ=s64",
      "userId": "03055594998709423173"
     },
     "user_tz": -330
    },
    "id": "9frJ8FxgeEoI"
   },
   "outputs": [],
   "source": [
    "import sys\n",
    "sys.path.append('/content/drive/My Drive/Colab_Notebooks/Frame Prediction Pytorch')\n",
    "from convlstm import ConvLSTM as ConvLstm           "
   ]
  },
  {
   "cell_type": "code",
   "execution_count": 3,
   "metadata": {
    "colab": {},
    "colab_type": "code",
    "executionInfo": {
     "elapsed": 1230,
     "status": "ok",
     "timestamp": 1592537581445,
     "user": {
      "displayName": "Akshay Tiwari",
      "photoUrl": "https://lh3.googleusercontent.com/a-/AOh14Gh_TWpk4u1Wa_FKphLjiNy_0rzD7hieOf1oU5VWeQ=s64",
      "userId": "03055594998709423173"
     },
     "user_tz": -330
    },
    "id": "YU4Ga49Kn-TI"
   },
   "outputs": [],
   "source": [
    "import torch\n",
    "import torch.nn as nn\n",
    "\n",
    "x = torch.rand(8,5,3,256,256)\n",
    "\n",
    "class convlstm_(nn.Module):  # can't make this a function in clas you don't have to give the input x\n",
    "  def __init__(self,v,i):\n",
    "    super().__init__()\n",
    "    self.i = i \n",
    "    self.conv = ConvLstm(input_dim=v,hidden_dim=i,kernel_size=(1,1),num_layers=1,batch_first=True)\n",
    "  def forward(self,x):          \n",
    "    result = self.conv(x)[0][0]\n",
    "    result = nn.BatchNorm3d(5)(result)\n",
    "    result = nn.ReLU()(result) \n",
    "    result = self.conv(result)[0][0]\n",
    "    result = nn.BatchNorm3d(5)(result)\n",
    "    result = nn.ReLU()(result)\n",
    "    result1 = nn.BatchNorm3d(5)(x)\n",
    "    result = result+result1          \n",
    "    return result               "
   ]
  },
  {
   "cell_type": "code",
   "execution_count": 4,
   "metadata": {
    "colab": {},
    "colab_type": "code",
    "executionInfo": {
     "elapsed": 1685,
     "status": "ok",
     "timestamp": 1592537585364,
     "user": {
      "displayName": "Akshay Tiwari",
      "photoUrl": "https://lh3.googleusercontent.com/a-/AOh14Gh_TWpk4u1Wa_FKphLjiNy_0rzD7hieOf1oU5VWeQ=s64",
      "userId": "03055594998709423173"
     },
     "user_tz": -330
    },
    "id": "TjYjVEWqgoSr"
   },
   "outputs": [],
   "source": [
    "import torch.nn as nn \n",
    "class TimeDistributed(nn.Module):\n",
    "    def __init__(self,in_,out,kernel,stride):\n",
    "        super().__init__()\n",
    "        self.out = out\n",
    "        module_list = [nn.Conv2d(in_channels=in_,out_channels=out,kernel_size=(kernel,kernel),stride = stride) for x in range(5)]\n",
    "        self.layers = nn.ModuleList(module_list)\n",
    "    \n",
    "    def forward(self,x):\n",
    "        output = torch.tensor([])\n",
    "        batchsize,timestep,C,H,W = x.shape\n",
    "        for c in range(timestep):\n",
    "            output_ = self.layers[c](x[:,c,:,:,:])\n",
    "            output_ = output_.unsqueeze(1)\n",
    "            output = torch.cat((output,output_),1)\n",
    "            output = nn.BatchNorm3d(output.shape[1])(output)\n",
    "            output = nn.ReLU()(output)\n",
    "            \n",
    "        return output "
   ]
  },
  {
   "cell_type": "code",
   "execution_count": 5,
   "metadata": {
    "colab": {},
    "colab_type": "code",
    "executionInfo": {
     "elapsed": 1641,
     "status": "ok",
     "timestamp": 1592537591510,
     "user": {
      "displayName": "Akshay Tiwari",
      "photoUrl": "https://lh3.googleusercontent.com/a-/AOh14Gh_TWpk4u1Wa_FKphLjiNy_0rzD7hieOf1oU5VWeQ=s64",
      "userId": "03055594998709423173"
     },
     "user_tz": -330
    },
    "id": "w7XtD_FhqbYX"
   },
   "outputs": [],
   "source": [
    "def ConvLstmBlock(in_,out):\n",
    "  ui = [in_]*3\n",
    "  seq = nn.Sequential(*[convlstm_(v,i) for v,i in zip(ui[:-1],ui[1:])])\n",
    "  time_dis = TimeDistributed(in_,out,2,2)\n",
    "  return nn.Sequential(*[seq,time_dis])"
   ]
  },
  {
   "cell_type": "code",
   "execution_count": 7,
   "metadata": {
    "colab": {},
    "colab_type": "code",
    "executionInfo": {
     "elapsed": 1696,
     "status": "ok",
     "timestamp": 1592537626637,
     "user": {
      "displayName": "Akshay Tiwari",
      "photoUrl": "https://lh3.googleusercontent.com/a-/AOh14Gh_TWpk4u1Wa_FKphLjiNy_0rzD7hieOf1oU5VWeQ=s64",
      "userId": "03055594998709423173"
     },
     "user_tz": -330
    },
    "id": "n4ithDeMLz8C"
   },
   "outputs": [],
   "source": [
    "def ConvLstm64(x,outputs):\n",
    "  input_list = [3,int(outputs/2),outputs]\n",
    "  rr = nn.Sequential(*[ConvLstmBlock(inp,outp) for inp,outp in zip(input_list[:2],input_list[1:] )])\n",
    "  return rr(x) "
   ]
  },
  {
   "cell_type": "code",
   "execution_count": 8,
   "metadata": {
    "colab": {},
    "colab_type": "code",
    "executionInfo": {
     "elapsed": 7769,
     "status": "ok",
     "timestamp": 1592537634960,
     "user": {
      "displayName": "Akshay Tiwari",
      "photoUrl": "https://lh3.googleusercontent.com/a-/AOh14Gh_TWpk4u1Wa_FKphLjiNy_0rzD7hieOf1oU5VWeQ=s64",
      "userId": "03055594998709423173"
     },
     "user_tz": -330
    },
    "id": "WNRzFYdfFksU"
   },
   "outputs": [],
   "source": [
    "x = torch.rand(8,5,3,256,256)\n",
    "\n",
    "what = ConvLstm64(x,40)    "
   ]
  },
  {
   "cell_type": "code",
   "execution_count": 11,
   "metadata": {
    "colab": {
     "base_uri": "https://localhost:8080/",
     "height": 34
    },
    "colab_type": "code",
    "executionInfo": {
     "elapsed": 1215,
     "status": "ok",
     "timestamp": 1592537661645,
     "user": {
      "displayName": "Akshay Tiwari",
      "photoUrl": "https://lh3.googleusercontent.com/a-/AOh14Gh_TWpk4u1Wa_FKphLjiNy_0rzD7hieOf1oU5VWeQ=s64",
      "userId": "03055594998709423173"
     },
     "user_tz": -330
    },
    "id": "JHNzK4nDGo-g",
    "outputId": "4d7d9926-a7e2-4a80-a354-e67a77eef407"
   },
   "outputs": [
    {
     "data": {
      "text/plain": [
       "torch.Size([8, 5, 40, 64, 64])"
      ]
     },
     "execution_count": 11,
     "metadata": {
      "tags": []
     },
     "output_type": "execute_result"
    }
   ],
   "source": [
    "what.shape"
   ]
  },
  {
   "cell_type": "code",
   "execution_count": null,
   "metadata": {
    "colab": {},
    "colab_type": "code",
    "id": "aK5b-eMOpDuq"
   },
   "outputs": [],
   "source": []
  }
 ],
 "metadata": {
  "accelerator": "GPU",
  "colab": {
   "collapsed_sections": [],
   "name": "ConvLstm64.ipynb",
   "provenance": []
  },
  "kernelspec": {
   "display_name": "Python 3",
   "language": "python",
   "name": "python3"
  },
  "language_info": {
   "codemirror_mode": {
    "name": "ipython",
    "version": 3
   },
   "file_extension": ".py",
   "mimetype": "text/x-python",
   "name": "python",
   "nbconvert_exporter": "python",
   "pygments_lexer": "ipython3",
   "version": "3.7.6"
  }
 },
 "nbformat": 4,
 "nbformat_minor": 1
}
